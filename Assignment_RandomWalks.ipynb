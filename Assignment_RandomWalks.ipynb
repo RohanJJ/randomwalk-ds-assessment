{
 "cells": [
  {
   "cell_type": "markdown",
   "id": "838984fd",
   "metadata": {},
   "source": [
    "# Assesment RandomWalks\n",
    "Name : Rohan Jacob John\n",
    "\n"
   ]
  },
  {
   "cell_type": "code",
   "execution_count": null,
   "id": "4e2f44b9",
   "metadata": {},
   "outputs": [],
   "source": [
    "import pandas as pd\n",
    "df = pd.read_csv('books.csv')\n",
    "r,c = df.shape\n",
    "\n",
    "\n",
    "#Q1 How many rows and columns are there in books.csv dataset?\n",
    "print(f\"Number of rows: {r}\")\n",
    "print(f\"Number of columns: {c}\")"
   ]
  },
  {
   "cell_type": "code",
   "execution_count": 21,
   "id": "93bf3855",
   "metadata": {},
   "outputs": [
    {
     "name": "stdout",
     "output_type": "stream",
     "text": [
      "The number of books do not have an original title: 36\n"
     ]
    }
   ],
   "source": [
    "#Q2 How many books do not have an original title?\n",
    "x= df['original_title'].isna().sum()\n",
    "print(f\"The number of books do not have an original title: {x}\")"
   ]
  },
  {
   "cell_type": "code",
   "execution_count": 16,
   "id": "1cb6bd37",
   "metadata": {},
   "outputs": [
    {
     "name": "stdout",
     "output_type": "stream",
     "text": [
      "The number of unique books are : 363\n"
     ]
    }
   ],
   "source": [
    "#Q3 How many unique books are present in the dataset ? \n",
    "\n",
    "df2 = df.dropna(subset=['original_title'])\n",
    "unique = df2['book_id'].nunique()\n",
    "print(f\"The number of unique books are : {unique}\")"
   ]
  },
  {
   "cell_type": "code",
   "execution_count": 8,
   "id": "7ed6ff6c",
   "metadata": {},
   "outputs": [
    {
     "name": "stdout",
     "output_type": "stream",
     "text": [
      "The average rating of all the books based on 'average_rating': 3.98\n"
     ]
    }
   ],
   "source": [
    "#Q4 What is the average rating of all the books in the dataset based on ‘average_rating’?\n",
    "\n",
    "y = df['average_rating'].mean()\n",
    "print(f\"The average rating of all the books based on 'average_rating': {y:.2f}\")"
   ]
  },
  {
   "cell_type": "code",
   "execution_count": 18,
   "id": "86a2197a",
   "metadata": {},
   "outputs": [
    {
     "name": "stdout",
     "output_type": "stream",
     "text": [
      "The number of books published in the year 2000: 8\n"
     ]
    }
   ],
   "source": [
    "#Q5 Find the number of books published in the year ‘2000’ based on the ‘original_publication_year\n",
    "\n",
    "books_published = df[df['original_publication_year'] == 2000]\n",
    "num = books_published.shape[0]\n",
    "print(f\"The number of books published in the year 2000: {num}\")"
   ]
  },
  {
   "cell_type": "code",
   "execution_count": 20,
   "id": "cbfaa8e4",
   "metadata": {},
   "outputs": [
    {
     "name": "stdout",
     "output_type": "stream",
     "text": [
      "The book with the maximum number of ratings is: The Diary of a Young Girl\n"
     ]
    }
   ],
   "source": [
    "#Q6 Which book (title) has the maximum number of ratings based on ‘work_ratings_count’.\n",
    "max_rating = df[df['work_ratings_count'] == df['work_ratings_count'].max()]['title'].iloc[0]\n",
    "print(f\"The book with the maximum number of ratings is: {max_rating}\")"
   ]
  },
  {
   "cell_type": "code",
   "execution_count": 22,
   "id": "cf5a22d2",
   "metadata": {},
   "outputs": [
    {
     "data": {
      "image/png": "[encoded data removed]",
      "text/plain": [
       "<Figure size 720x432 with 1 Axes>"
      ]
     },
     "metadata": {
      "needs_background": "light"
     },
     "output_type": "display_data"
    }
   ],
   "source": [
    "#Q7 Bucket the average_rating of books into 11 buckets [0, 0.5, 1.0, 1.5, 2.0, 2.5, 3.0, 3.5, 4.0, 4.5, 5.0] with 0.5 decimal rounding (eg: average_rating 3.0 to 3.49 will fall in bucket 3.0). Plot bar graph to show total number of books in each rating bucket.\n",
    "import matplotlib.pyplot as plt\n",
    "\n",
    "buckets = [0, 0.5, 1.0, 1.5, 2.0, 2.5, 3.0, 3.5, 4.0, 4.5, 5.0]\n",
    "df['rating_bucket'] = pd.cut(df['average_rating'], bins=buckets, right=False)\n",
    "bucket_counts = df['rating_bucket'].value_counts().sort_index()\n",
    "\n",
    "plt.figure(figsize=(10, 6))\n",
    "bucket_counts.plot(kind='bar', color='green', edgecolor='black')\n",
    "plt.title('Number of Books in Each Rating Bucket')\n",
    "plt.xlabel('Rating Bucket')\n",
    "plt.ylabel('Number of Books')\n",
    "\n",
    "plt.tight_layout()\n",
    "plt.show()"
   ]
  },
  {
   "cell_type": "code",
   "execution_count": null,
   "id": "f75ce665",
   "metadata": {},
   "outputs": [],
   "source": []
  }
 ],
 "metadata": {
  "kernelspec": {
   "display_name": "Python 3 (ipykernel)",
   "language": "python",
   "name": "python3"
  },
  "language_info": {
   "codemirror_mode": {
    "name": "ipython",
    "version": 3
   },
   "file_extension": ".py",
   "mimetype": "text/x-python",
   "name": "python",
   "nbconvert_exporter": "python",
   "pygments_lexer": "ipython3",
   "version": "3.9.7"
  }
 },
 "nbformat": 4,
 "nbformat_minor": 5
}
